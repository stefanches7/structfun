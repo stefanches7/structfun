{
 "cells": [
  {
   "cell_type": "markdown",
   "id": "c98e54bc-37be-405d-a8cd-a322ed6f4acc",
   "metadata": {},
   "source": [
    "# Visualize results"
   ]
  },
  {
   "cell_type": "code",
   "execution_count": 1,
   "id": "4c369647-5a24-4cbe-bd7a-edef4e409b05",
   "metadata": {},
   "outputs": [],
   "source": [
    "import numpy as np\n",
    "import matplotlib.pyplot as plt"
   ]
  },
  {
   "cell_type": "code",
   "execution_count": 14,
   "id": "5a09d150-6b93-4dd9-a7f7-ee5980e28751",
   "metadata": {},
   "outputs": [],
   "source": [
    "data = np.loadtxt(\"weights/excitatory_2023-08-08 19:23:48.990953.tsv-943-0.dat\", skiprows=3)\n",
    "sender, t, w, target, _, _ = data.T"
   ]
  },
  {
   "cell_type": "code",
   "execution_count": 25,
   "id": "697d83ed-d265-4124-8fc7-36856590e310",
   "metadata": {},
   "outputs": [
    {
     "data": {
      "text/plain": [
       "array([  1.,   2.,   3.,   4.,   5.,   6.,   7.,   8.,   9.,  10.,  11.,\n",
       "        12.,  13.,  14.,  15.,  16.,  17.,  18.,  19.,  20.,  21.,  22.,\n",
       "        23.,  24.,  25.,  26.,  27.,  28.,  29.,  30.,  31.,  32.,  33.,\n",
       "        34.,  35.,  36.,  37.,  38.,  39.,  40.,  41.,  42.,  43.,  44.,\n",
       "        45.,  46.,  47.,  48.,  49.,  50.,  51.,  52.,  53.,  54.,  55.,\n",
       "        56.,  57.,  58.,  59.,  60.,  61.,  62.,  63.,  64.,  65.,  66.,\n",
       "        67.,  68.,  69.,  70.,  71.,  72.,  73.,  74.,  75.,  76.,  77.,\n",
       "        78.,  79.,  80.,  81.,  82.,  83.,  84.,  85.,  86.,  87.,  88.,\n",
       "        89.,  90.,  91.,  92.,  93.,  94.,  95.,  96.,  97.,  98.,  99.,\n",
       "       100., 101., 102., 103., 104., 105., 106., 107., 108., 109., 110.,\n",
       "       111., 112., 113., 114., 115., 116., 117., 118., 119., 120., 121.,\n",
       "       122., 123., 124., 125., 126., 127., 128., 129., 130., 131., 132.,\n",
       "       133., 134., 135., 136., 137., 138., 139., 140., 141., 142., 143.,\n",
       "       144., 145., 146., 147., 148., 149., 150., 151., 152., 153., 154.,\n",
       "       155., 156., 157., 158., 159., 160., 161., 162., 163., 164., 165.,\n",
       "       166., 167., 168., 169., 170., 171., 172., 173., 174., 175., 176.,\n",
       "       177., 178., 179., 180., 181., 182., 183., 184., 185., 186., 187.,\n",
       "       188., 189., 190., 191., 192., 193., 194., 195., 196., 197., 198.,\n",
       "       199., 200., 201., 202., 203., 204., 205., 206., 207., 208., 209.,\n",
       "       210., 211., 212., 213., 214., 215., 216., 217., 218., 219., 220.,\n",
       "       221., 222., 223., 224., 225., 226., 227., 228., 229., 230., 231.,\n",
       "       232., 233., 234., 235., 236., 237., 238., 239., 240., 241., 242.,\n",
       "       243., 244., 245., 246., 247., 248., 249., 250., 251., 252., 253.,\n",
       "       254., 255., 256., 257., 258., 259., 260., 261., 262., 263., 264.,\n",
       "       265., 266., 267., 268., 269., 270., 271., 272., 273., 274., 275.,\n",
       "       276., 277., 278., 279., 280., 281., 282., 283., 284., 285., 286.,\n",
       "       287., 288., 289., 290., 291., 292., 293., 294., 295., 296., 297.,\n",
       "       298., 299., 300., 301., 302., 303., 304., 305., 306., 307., 308.,\n",
       "       309., 310., 311., 312., 313., 314., 315., 316., 317., 318., 319.,\n",
       "       320., 321., 322., 323., 324., 325., 326., 327., 328., 329., 330.,\n",
       "       331., 332., 333., 334., 335., 336., 337., 338., 339., 340., 341.,\n",
       "       342., 343., 344., 345., 346., 347., 348., 349., 350., 351., 352.,\n",
       "       353., 354., 355., 356., 357., 358., 359., 360., 361., 362., 363.,\n",
       "       364., 365., 366., 367., 368., 369., 370., 371., 372., 373., 374.,\n",
       "       375., 376., 377., 378., 379., 380., 381., 382., 383., 384., 385.,\n",
       "       386., 387., 388., 389., 390., 391., 392., 393., 394., 395., 396.,\n",
       "       397., 398., 399., 400., 401., 402., 403., 404., 405., 406., 407.,\n",
       "       408., 409., 410., 411., 412., 413., 414., 415., 416., 417., 418.,\n",
       "       419., 420., 421., 422., 423., 424., 425., 426., 427., 428., 429.,\n",
       "       430., 431., 432., 433., 434., 435., 436., 437., 438., 439., 440.,\n",
       "       441., 442., 443., 444., 445., 446., 447., 448., 449., 450., 451.,\n",
       "       452., 453., 454., 455., 456., 457., 458., 459., 460., 461., 462.,\n",
       "       463., 464., 465., 466., 467., 468., 469., 470., 471., 472., 473.,\n",
       "       474., 475., 476., 477., 478., 479., 480., 481., 482., 483., 484.,\n",
       "       485., 486., 487., 488., 489., 490., 491., 492., 493., 494., 495.,\n",
       "       496., 497., 498., 499., 500., 501., 502., 503., 504., 505., 506.,\n",
       "       507., 508., 509., 510., 511., 512., 513., 514., 515., 516., 517.,\n",
       "       518., 519., 520., 521., 522., 523., 524., 525., 526., 527., 528.,\n",
       "       529., 530., 531., 532., 533., 534., 535., 536., 537., 538., 539.,\n",
       "       540., 541., 542., 543., 544., 545., 546., 547., 548., 549., 550.,\n",
       "       551., 552., 553., 554., 555., 556., 557., 558., 559., 560., 561.,\n",
       "       562., 563., 564., 565., 566., 567., 568., 569., 570., 571., 572.,\n",
       "       573., 574., 575., 576., 577., 578., 579., 580., 581., 582., 583.,\n",
       "       584., 585., 586., 587., 588., 589., 590., 591., 592., 593., 594.,\n",
       "       595., 596., 597., 598., 599., 600., 601., 602., 603., 604., 605.,\n",
       "       606., 607., 608., 609., 610., 611., 612., 613., 614., 615., 616.,\n",
       "       617., 618., 619., 620., 621., 622., 623., 624., 625., 626., 627.,\n",
       "       628., 629., 630., 631., 632., 633., 634., 635., 636., 637., 638.,\n",
       "       639., 640., 641., 642., 643., 644., 645., 646., 647., 648., 649.,\n",
       "       650., 651., 652., 653., 654., 655., 656., 657., 658., 659., 660.,\n",
       "       661., 662., 663., 664., 665., 666., 667., 668., 669., 670., 671.,\n",
       "       672., 673., 674., 675., 676., 677., 678., 679., 680., 681., 682.,\n",
       "       683., 684., 685., 686., 687., 688., 689., 690., 691., 692., 693.,\n",
       "       694., 695., 696., 697., 698., 699., 700., 701., 702., 703., 704.,\n",
       "       705., 706., 707., 708., 709., 710., 711., 712., 713., 714., 715.,\n",
       "       716., 717., 718., 719., 720., 721., 722., 723., 724., 725., 726.,\n",
       "       727., 728., 729., 730., 731., 732., 733., 734., 735., 736., 737.,\n",
       "       738., 739., 740., 741., 742., 743., 744., 745., 746., 747., 748.,\n",
       "       749., 750., 751., 752., 753., 754.])"
      ]
     },
     "execution_count": 25,
     "metadata": {},
     "output_type": "execute_result"
    }
   ],
   "source": [
    "np.unique(sender)"
   ]
  },
  {
   "cell_type": "code",
   "execution_count": 29,
   "id": "66d3f3c6-513d-458c-8859-b3d3beeaaa05",
   "metadata": {},
   "outputs": [
    {
     "data": {
      "text/plain": [
       "Text(0.5, 1.0, 'Weight change')"
      ]
     },
     "execution_count": 29,
     "metadata": {},
     "output_type": "execute_result"
    },
    {
     "data": {
      "image/png": "[encoded data removed]",
      "text/plain": [
       "<Figure size 432x288 with 1 Axes>"
      ]
     },
     "metadata": {
      "needs_background": "light"
     },
     "output_type": "display_data"
    }
   ],
   "source": [
    "plt.plot(w[np.where(sender == 707)])\n",
    "plt.xlabel(\"Time (ms)\") \n",
    "plt.ylabel(\"Weight\")\n",
    "plt.title(\"Weight change\")"
   ]
  },
  {
   "cell_type": "code",
   "execution_count": 11,
   "id": "d596779c-7f96-4ced-af05-9bbb4fa1d307",
   "metadata": {},
   "outputs": [],
   "source": [
    "data = np.loadtxt(\"spikes/spikes_exc_2023-08-08 20:02:44.939679.tsv-1887-0.dat\", skiprows=3)\n",
    "sender, ts = data.T\n",
    "\n",
    "ts_int = ts.astype(int)"
   ]
  },
  {
   "cell_type": "code",
   "execution_count": 12,
   "id": "35b353f6-f9e4-466d-b43b-b842d34e87a6",
   "metadata": {},
   "outputs": [],
   "source": [
    "spikes = np.zeros(int(max(ts_int)) + 1)\n",
    "for t, _ in zip(ts_int, sender):\n",
    "    spikes[t] += 1"
   ]
  },
  {
   "cell_type": "code",
   "execution_count": 13,
   "id": "f327705b-d00f-41b8-8234-22f99daba39f",
   "metadata": {
    "scrolled": true
   },
   "outputs": [
    {
     "data": {
      "text/plain": [
       "[<matplotlib.lines.Line2D at 0x7f2f167f06a0>]"
      ]
     },
     "execution_count": 13,
     "metadata": {},
     "output_type": "execute_result"
    },
    {
     "data": {
      "image/png": "[encoded data removed]",
      "text/plain": [
       "<Figure size 432x288 with 1 Axes>"
      ]
     },
     "metadata": {
      "needs_background": "light"
     },
     "output_type": "display_data"
    }
   ],
   "source": [
    "plt.plot(spikes)"
   ]
  },
  {
   "cell_type": "code",
   "execution_count": 28,
   "id": "4c86286f-549a-4460-bd9f-23652f3f0914",
   "metadata": {
    "scrolled": true,
    "tags": []
   },
   "outputs": [
    {
     "name": "stdout",
     "output_type": "stream",
     "text": [
      "\n",
      "              -- N E S T --\n",
      "  Copyright (C) 2004 The NEST Initiative\n",
      "\n",
      " Version: 3.4\n",
      " Built: Aug  2 2023 15:17:11\n",
      "\n",
      " This program is provided AS IS and comes with\n",
      " NO WARRANTY. See the file LICENSE for details.\n",
      "\n",
      " Problems or suggestions?\n",
      "   Visit https://www.nest-simulator.org\n",
      "\n",
      " Type 'nest.help()' to find out more about NEST.\n",
      "\n"
     ]
    },
    {
     "name": "stderr",
     "output_type": "stream",
     "text": [
      "WARNING:root:PyGSL is not available. The stiffness test will be skipped.\n",
      "WARNING:root:Error when importing: No module named 'pygsl'\n"
     ]
    }
   ],
   "source": [
    "import nest\n",
    "import numpy as np\n",
    "import matplotlib.pyplot as plt\n",
    "import sys\n",
    "from datetime import datetime\n",
    "from pynestml.codegeneration.nest_code_generator_utils import NESTCodeGeneratorUtils\n"
   ]
  },
  {
   "cell_type": "code",
   "execution_count": 130,
   "id": "50c11491-8ec7-45f2-aaee-525538b63a7d",
   "metadata": {
    "scrolled": true
   },
   "outputs": [
    {
     "name": "stdout",
     "output_type": "stream",
     "text": [
      "[7,izhikevich_custom7849465c1f8d4551a665e78a5fcebef7_nestml, WARNING, [12:8;12:17]]: Variable 'a' has the same name as a physical unit!\n",
      "[8,izhikevich_custom7849465c1f8d4551a665e78a5fcebef7_nestml, WARNING, [15:8;15:17]]: Variable 'd' has the same name as a physical unit!\n",
      "[14,stdp_depression7849465c1f8d4551a665e78a5fcebef7_nestml, WARNING, [6:8;6:17]]: Variable 'D' has the same name as a physical unit!\n",
      "[15,stdp_depression7849465c1f8d4551a665e78a5fcebef7_nestml, WARNING, [9:8;9:28]]: Variable 'd' has the same name as a physical unit!\n",
      "\n",
      "              -- N E S T --\n",
      "  Copyright (C) 2004 The NEST Initiative\n",
      "\n",
      " Version: 3.4\n",
      " Built: Aug  2 2023 15:17:11\n",
      "\n",
      " This program is provided AS IS and comes with\n",
      " NO WARRANTY. See the file LICENSE for details.\n",
      "\n",
      " Problems or suggestions?\n",
      "   Visit https://www.nest-simulator.org\n",
      "\n",
      " Type 'nest.help()' to find out more about NEST.\n",
      "\n",
      "[28,izhikevich_custom7849465c1f8d4551a665e78a5fcebef7_nestml, WARNING, [12:8;12:17]]: Variable 'a' has the same name as a physical unit!\n",
      "[29,izhikevich_custom7849465c1f8d4551a665e78a5fcebef7_nestml, WARNING, [15:8;15:17]]: Variable 'd' has the same name as a physical unit!\n",
      "[33,stdp_depression7849465c1f8d4551a665e78a5fcebef7_nestml, WARNING, [6:8;6:17]]: Variable 'D' has the same name as a physical unit!\n",
      "[34,stdp_depression7849465c1f8d4551a665e78a5fcebef7_nestml, WARNING, [9:8;9:28]]: Variable 'd' has the same name as a physical unit!\n",
      "[57,izhikevich_custom7849465c1f8d4551a665e78a5fcebef7_nestml__with_stdp_depression7849465c1f8d4551a665e78a5fcebef7_nestml, WARNING, [12:8;12:17]]: Variable 'a' has the same name as a physical unit!\n",
      "[58,izhikevich_custom7849465c1f8d4551a665e78a5fcebef7_nestml__with_stdp_depression7849465c1f8d4551a665e78a5fcebef7_nestml, WARNING, [15:8;15:17]]: Variable 'd' has the same name as a physical unit!\n",
      "[63,stdp_depression7849465c1f8d4551a665e78a5fcebef7_nestml__with_izhikevich_custom7849465c1f8d4551a665e78a5fcebef7_nestml, WARNING, [6:8;6:17]]: Variable 'D' has the same name as a physical unit!\n",
      "[64,stdp_depression7849465c1f8d4551a665e78a5fcebef7_nestml__with_izhikevich_custom7849465c1f8d4551a665e78a5fcebef7_nestml, WARNING, [9:8;9:28]]: Variable 'd' has the same name as a physical unit!\n",
      "[74,izhikevich_custom7849465c1f8d4551a665e78a5fcebef7_nestml, WARNING, [12:8;12:17]]: Variable 'a' has the same name as a physical unit!\n",
      "[75,izhikevich_custom7849465c1f8d4551a665e78a5fcebef7_nestml, WARNING, [15:8;15:17]]: Variable 'd' has the same name as a physical unit!\n",
      "[80,izhikevich_custom7849465c1f8d4551a665e78a5fcebef7_nestml__with_stdp_depression7849465c1f8d4551a665e78a5fcebef7_nestml, WARNING, [12:8;12:17]]: Variable 'a' has the same name as a physical unit!\n",
      "[81,izhikevich_custom7849465c1f8d4551a665e78a5fcebef7_nestml__with_stdp_depression7849465c1f8d4551a665e78a5fcebef7_nestml, WARNING, [15:8;15:17]]: Variable 'd' has the same name as a physical unit!\n",
      "[86,stdp_depression7849465c1f8d4551a665e78a5fcebef7_nestml__with_izhikevich_custom7849465c1f8d4551a665e78a5fcebef7_nestml, WARNING, [6:8;6:17]]: Variable 'D' has the same name as a physical unit!\n",
      "[87,stdp_depression7849465c1f8d4551a665e78a5fcebef7_nestml__with_izhikevich_custom7849465c1f8d4551a665e78a5fcebef7_nestml, WARNING, [9:8;9:28]]: Variable 'd' has the same name as a physical unit!\n",
      "[94,stdp_depression7849465c1f8d4551a665e78a5fcebef7_nestml__with_izhikevich_custom7849465c1f8d4551a665e78a5fcebef7_nestml, WARNING, [6:8;6:17]]: Variable 'D' has the same name as a physical unit!\n",
      "[95,stdp_depression7849465c1f8d4551a665e78a5fcebef7_nestml__with_izhikevich_custom7849465c1f8d4551a665e78a5fcebef7_nestml, WARNING, [9:8;9:28]]: Variable 'd' has the same name as a physical unit!\n",
      "-- The CXX compiler identification is Clang 15.0.0\n",
      "-- Check for working CXX compiler: /dss/dsshome1/lrz/sys/spack/release/22.2.1/opt/x86_64/intel-oneapi-compilers/2022.2.0-gcc-3h32hs7/compiler/2022.2.0/linux/bin/icpx\n",
      "-- Check for working CXX compiler: /dss/dsshome1/lrz/sys/spack/release/22.2.1/opt/x86_64/intel-oneapi-compilers/2022.2.0-gcc-3h32hs7/compiler/2022.2.0/linux/bin/icpx -- works\n",
      "-- Detecting CXX compiler ABI info\n",
      "-- Detecting CXX compiler ABI info - done\n",
      "-- Detecting CXX compile features\n",
      "-- Detecting CXX compile features - done\n",
      "\n",
      "-------------------------------------------------------\n",
      "nestml_7849465c1f8d4551a665e78a5fcebef7_module Configuration Summary\n",
      "-------------------------------------------------------\n",
      "\n",
      "C++ compiler         : /dss/dsshome1/lrz/sys/spack/release/22.2.1/opt/x86_64/intel-oneapi-compilers/2022.2.0-gcc-3h32hs7/compiler/2022.2.0/linux/bin/icpx\n",
      "Build static libs    : OFF\n",
      "C++ compiler flags   : \n",
      "NEST compiler flags  :  -std=c++11 -Wall -fopenmp  -O2 -fdiagnostics-color=auto -O2 -g -DNDEBUG\n",
      "NEST include dirs    :  -I/dss/dsshome1/00/ge72puf2/spack/opt/linux-sles15-haswell/nest/3.4-gcc-11.2.0-g3xsuwt/include/nest -I/dss/dsshome1/lrz/sys/spack/release/22.2.1/opt/haswell/libtool/2.4.6-gcc-mggvdji/include -I/dss/dsshome1/lrz/sys/spack/release/22.2.1/opt/haswell/readline/8.1-gcc-kl2epb2/include -I/dss/dsshome1/lrz/sys/spack/release/22.2.1/opt/haswell/gsl/2.7-gcc-to2yxdj/include -I/dss/dsshome1/lrz/sys/spack/release/22.2.1/opt/haswell/intel-mpi/2019.12.320-gcc-5tsyll5/compilers_and_libraries_2020.4.320/linux/mpi/intel64/include\n",
      "NEST libraries flags : -L/dss/dsshome1/00/ge72puf2/spack/opt/linux-sles15-haswell/nest/3.4-gcc-11.2.0-g3xsuwt/lib64/nest -lnestutil -lsli -lnestkernel -fopenmp /dss/dsshome1/lrz/sys/spack/release/22.2.1/opt/haswell/libtool/2.4.6-gcc-mggvdji/lib/libltdl.so /dss/dsshome1/lrz/sys/spack/release/22.2.1/opt/haswell/readline/8.1-gcc-kl2epb2/lib/libreadline.so /dss/dsshome1/lrz/sys/spack/release/22.2.1/opt/haswell/ncurses/6.2-gcc-47oirry/lib/libncurses.so /dss/dsshome1/lrz/sys/spack/release/22.2.1/opt/haswell/gsl/2.7-gcc-to2yxdj/lib/libgsl.so /dss/dsshome1/lrz/sys/spack/release/22.2.1/opt/haswell/gsl/2.7-gcc-to2yxdj/lib/libgslcblas.so   /dss/dsshome1/lrz/sys/spack/release/22.2.1/opt/haswell/intel-mpi/2019.12.320-gcc-5tsyll5/compilers_and_libraries_2020.4.320/linux/mpi/intel64/lib/libmpicxx.so /dss/dsshome1/lrz/sys/spack/release/22.2.1/opt/haswell/intel-mpi/2019.12.320-gcc-5tsyll5/compilers_and_libraries_2020.4.320/linux/mpi/intel64/lib/release/libmpi.so /usr/lib64/librt.so /usr/lib64/libpthread.so /usr/lib64/libdl.so\n",
      "\n",
      "-------------------------------------------------------\n",
      "\n",
      "You can now build and install 'nestml_7849465c1f8d4551a665e78a5fcebef7_module' using\n",
      "  make\n",
      "  make install\n",
      "\n",
      "The library file libnestml_7849465c1f8d4551a665e78a5fcebef7_module.so will be installed to\n",
      "  /dss/dsshome1/00/ge72puf2/spack/opt/linux-sles15-haswell/nest/3.4-gcc-11.2.0-g3xsuwt/lib64/nest\n",
      "The module can be loaded into NEST using\n",
      "  (nestml_7849465c1f8d4551a665e78a5fcebef7_module) Install       (in SLI)\n",
      "  nest.Install(nestml_7849465c1f8d4551a665e78a5fcebef7_module)   (in PyNEST)\n",
      "\n",
      "CMake Warning (dev) in CMakeLists.txt:\n",
      "  No cmake_minimum_required command is present.  A line of code such as\n",
      "\n",
      "    cmake_minimum_required(VERSION 3.10)\n",
      "\n",
      "  should be added at the top of the file.  The version specified may be lower\n",
      "  if you wish to support older CMake versions for this project.  For more\n",
      "  information run \"cmake --help-policy CMP0000\".\n",
      "This warning is for project developers.  Use -Wno-dev to suppress it.\n",
      "\n",
      "-- Configuring done\n",
      "-- Generating done\n",
      "-- Build files have been written to: /dss/dsshome1/00/ge72puf2/structfun/target\n",
      "\u001b[35m\u001b[1mScanning dependencies of target nestml_7849465c1f8d4551a665e78a5fcebef7_module_module\u001b[0m\n",
      "[ 25%] \u001b[32mBuilding CXX object CMakeFiles/nestml_7849465c1f8d4551a665e78a5fcebef7_module_module.dir/nestml_7849465c1f8d4551a665e78a5fcebef7_module.o\u001b[0m\n",
      "In file included from /dss/dsshome1/00/ge72puf2/structfun/target/nestml_7849465c1f8d4551a665e78a5fcebef7_module.cpp:49:\n",
      "/dss/dsshome1/00/ge72puf2/structfun/target/izhikevich_custom7849465c1f8d4551a665e78a5fcebef7_nestml__with_stdp_depression7849465c1f8d4551a665e78a5fcebef7_nestml.h:209:8: warning: 'register_stdp_connection' overrides a member function but is not marked 'override' [-Winconsistent-missing-override]\n",
      "  void register_stdp_connection( double t_first_read, double delay );\n",
      "       ^\n",
      "/dss/dsshome1/00/ge72puf2/spack/opt/linux-sles15-haswell/nest/3.4-gcc-11.2.0-g3xsuwt/include/nest/node.h:457:16: note: overridden virtual function is here\n",
      "  virtual void register_stdp_connection( double, double );\n",
      "               ^\n",
      "In file included from /dss/dsshome1/00/ge72puf2/structfun/target/nestml_7849465c1f8d4551a665e78a5fcebef7_module.cpp:52:\n",
      "/dss/dsshome1/00/ge72puf2/structfun/target/stdp_depression7849465c1f8d4551a665e78a5fcebef7_nestml__with_izhikevich_custom7849465c1f8d4551a665e78a5fcebef7_nestml.h:503:22: warning: unused variable 'minus_dt' [-Wunused-variable]\n",
      "        const double minus_dt = t_lastspike_ - ( start->t_ + __dendritic_delay );\n",
      "                     ^\n",
      "/dss/dsshome1/00/ge72puf2/structfun/target/stdp_depression7849465c1f8d4551a665e78a5fcebef7_nestml__with_izhikevich_custom7849465c1f8d4551a665e78a5fcebef7_nestml.h:458:18: warning: unused variable '__resolution' [-Wunused-variable]\n",
      "    const double __resolution = nest::Time::get_resolution().get_ms();  // do not remove, this is necessary for the resolution() function\n",
      "                 ^\n",
      "/dss/dsshome1/00/ge72puf2/structfun/target/stdp_depression7849465c1f8d4551a665e78a5fcebef7_nestml__with_izhikevich_custom7849465c1f8d4551a665e78a5fcebef7_nestml.h:482:12: warning: variable 'timestep' set but not used [-Wunused-but-set-variable]\n",
      "    double timestep = 0;\n",
      "           ^\n",
      "/dss/dsshome1/00/ge72puf2/structfun/target/stdp_depression7849465c1f8d4551a665e78a5fcebef7_nestml__with_izhikevich_custom7849465c1f8d4551a665e78a5fcebef7_nestml.h:738:16: warning: unused variable '__resolution' [-Wunused-variable]\n",
      "  const double __resolution = nest::Time::get_resolution().get_ms();  // do not remove, this is necessary for the resolution() function\n",
      "               ^\n",
      "/dss/dsshome1/00/ge72puf2/structfun/target/stdp_depression7849465c1f8d4551a665e78a5fcebef7_nestml__with_izhikevich_custom7849465c1f8d4551a665e78a5fcebef7_nestml.h:755:16: warning: unused variable '__resolution' [-Wunused-variable]\n",
      "  const double __resolution = nest::Time::get_resolution().get_ms();  // do not remove, this is necessary for the resolution() function\n",
      "               ^\n",
      "/dss/dsshome1/00/ge72puf2/structfun/target/stdp_depression7849465c1f8d4551a665e78a5fcebef7_nestml__with_izhikevich_custom7849465c1f8d4551a665e78a5fcebef7_nestml.h:855:16: warning: unused variable '__resolution' [-Wunused-variable]\n",
      "  const double __resolution = timestep;  // do not remove, this is necessary for the resolution() function\n",
      "               ^\n",
      "In file included from /dss/dsshome1/00/ge72puf2/structfun/target/nestml_7849465c1f8d4551a665e78a5fcebef7_module.cpp:26:\n",
      "In file included from /dss/dsshome1/00/ge72puf2/spack/opt/linux-sles15-haswell/nest/3.4-gcc-11.2.0-g3xsuwt/include/nest/connection_manager_impl.h:26:\n",
      "In file included from /dss/dsshome1/00/ge72puf2/spack/opt/linux-sles15-haswell/nest/3.4-gcc-11.2.0-g3xsuwt/include/nest/connection_manager.h:34:\n",
      "In file included from /dss/dsshome1/00/ge72puf2/spack/opt/linux-sles15-haswell/nest/3.4-gcc-11.2.0-g3xsuwt/include/nest/conn_builder.h:39:\n",
      "In file included from /dss/dsshome1/00/ge72puf2/spack/opt/linux-sles15-haswell/nest/3.4-gcc-11.2.0-g3xsuwt/include/nest/conn_parameter.h:31:\n",
      "In file included from /dss/dsshome1/00/ge72puf2/spack/opt/linux-sles15-haswell/nest/3.4-gcc-11.2.0-g3xsuwt/include/nest/exceptions.h:27:\n",
      "In file included from /dss/dsshome1/00/ge72puf2/spack/opt/linux-sles15-haswell/nest/3.4-gcc-11.2.0-g3xsuwt/include/nest/nest_time.h:36:\n",
      "/dss/dsshome1/00/ge72puf2/spack/opt/linux-sles15-haswell/nest/3.4-gcc-11.2.0-g3xsuwt/include/nest/numerics.h:93:10: warning: comparison with NaN always evaluates to false in fast floating point modes [-Wtautological-constant-compare]\n",
      "  return std::isnan( f );\n",
      "         ^~~~~~~~~~~~~~~\n",
      "/dss/dsshome1/00/ge72puf2/spack/opt/linux-sles15-haswell/nest/3.4-gcc-11.2.0-g3xsuwt/include/nest/connector_model_impl.h:193:22: note: in instantiation of function template specialization 'numerics::is_nan<double>' requested here\n",
      "  if ( not numerics::is_nan( delay ) )\n",
      "                     ^\n",
      "/dss/dsshome1/00/ge72puf2/spack/opt/linux-sles15-haswell/nest/3.4-gcc-11.2.0-g3xsuwt/include/nest/connector_model.h:184:3: note: in instantiation of member function 'nest::GenericConnectorModel<nest::stdp_depression7849465c1f8d4551a665e78a5fcebef7_nestml__with_izhikevich_custom7849465c1f8d4551a665e78a5fcebef7_nestml<nest::TargetIdentifierPtrRport>>::add_connection' requested here\n",
      "  GenericConnectorModel( const std::string name,\n",
      "  ^\n",
      "/dss/dsshome1/00/ge72puf2/spack/opt/linux-sles15-haswell/nest/3.4-gcc-11.2.0-g3xsuwt/include/nest/model_manager_impl.h:61:28: note: in instantiation of member function 'nest::GenericConnectorModel<nest::stdp_depression7849465c1f8d4551a665e78a5fcebef7_nestml__with_izhikevich_custom7849465c1f8d4551a665e78a5fcebef7_nestml<nest::TargetIdentifierPtrRport>>::GenericConnectorModel' requested here\n",
      "  ConnectorModel* cf = new GenericConnectorModel< ConnectionT< TargetIdentifierPtrRport > >( name,\n",
      "                           ^\n",
      "/dss/dsshome1/00/ge72puf2/spack/opt/linux-sles15-haswell/nest/3.4-gcc-11.2.0-g3xsuwt/include/nest/nest_impl.h:35:26: note: in instantiation of function template specialization 'nest::ModelManager::register_connection_model<nest::stdp_depression7849465c1f8d4551a665e78a5fcebef7_nestml__with_izhikevich_custom7849465c1f8d4551a665e78a5fcebef7_nestml>' requested here\n",
      "  kernel().model_manager.register_connection_model< ConnectorModelT >( name, flags );\n",
      "                         ^\n",
      "/dss/dsshome1/00/ge72puf2/structfun/target/nestml_7849465c1f8d4551a665e78a5fcebef7_module.cpp:111:11: note: in instantiation of function template specialization 'nest::register_connection_model<nest::stdp_depression7849465c1f8d4551a665e78a5fcebef7_nestml__with_izhikevich_custom7849465c1f8d4551a665e78a5fcebef7_nestml>' requested here\n",
      "    nest::register_connection_model< nest::stdp_depression7849465c1f8d4551a665e78a5fcebef7_nestml__with_izhikevich_custom7849465c1f8d4551a665e78a5fcebef7_nestml >( \"stdp_depression7849465c1f8d4551a665e78a5fcebef7_nestml__with_izhikevich_custom7849465c1f8d4551a665e78a5fcebef7_nestml\" );\n",
      "          ^\n",
      "In file included from /dss/dsshome1/00/ge72puf2/structfun/target/nestml_7849465c1f8d4551a665e78a5fcebef7_module.cpp:52:\n",
      "/dss/dsshome1/00/ge72puf2/structfun/target/stdp_depression7849465c1f8d4551a665e78a5fcebef7_nestml__with_izhikevich_custom7849465c1f8d4551a665e78a5fcebef7_nestml.h:460:10: warning: unused variable 'get_thread' [-Wunused-variable]\n",
      "    auto get_thread = [tid]()\n",
      "         ^\n",
      "/dss/dsshome1/00/ge72puf2/spack/opt/linux-sles15-haswell/nest/3.4-gcc-11.2.0-g3xsuwt/include/nest/connector_base.h:379:18: note: in instantiation of member function 'nest::stdp_depression7849465c1f8d4551a665e78a5fcebef7_nestml__with_izhikevich_custom7849465c1f8d4551a665e78a5fcebef7_nestml<nest::TargetIdentifierPtrRport>::send' requested here\n",
      "      C_[ lcid ].send(\n",
      "                 ^\n",
      "/dss/dsshome1/00/ge72puf2/spack/opt/linux-sles15-haswell/nest/3.4-gcc-11.2.0-g3xsuwt/include/nest/connector_base.h:223:12: note: in instantiation of member function 'nest::Connector<nest::stdp_depression7849465c1f8d4551a665e78a5fcebef7_nestml__with_izhikevich_custom7849465c1f8d4551a665e78a5fcebef7_nestml<nest::TargetIdentifierPtrRport>>::send_to_all' requested here\n",
      "  explicit Connector( const synindex syn_id )\n",
      "           ^\n",
      "/dss/dsshome1/00/ge72puf2/spack/opt/linux-sles15-haswell/nest/3.4-gcc-11.2.0-g3xsuwt/include/nest/connector_model_impl.h:274:45: note: in instantiation of member function 'nest::Connector<nest::stdp_depression7849465c1f8d4551a665e78a5fcebef7_nestml__with_izhikevich_custom7849465c1f8d4551a665e78a5fcebef7_nestml<nest::TargetIdentifierPtrRport>>::Connector' requested here\n",
      "    thread_local_connectors[ syn_id ] = new Connector< ConnectionT >( syn_id );\n",
      "                                            ^\n",
      "/dss/dsshome1/00/ge72puf2/spack/opt/linux-sles15-haswell/nest/3.4-gcc-11.2.0-g3xsuwt/include/nest/connector_model_impl.h:255:3: note: in instantiation of member function 'nest::GenericConnectorModel<nest::stdp_depression7849465c1f8d4551a665e78a5fcebef7_nestml__with_izhikevich_custom7849465c1f8d4551a665e78a5fcebef7_nestml<nest::TargetIdentifierPtrRport>>::add_connection_' requested here\n",
      "  add_connection_( src, tgt, thread_local_connectors, syn_id, connection, actual_receptor_type );\n",
      "  ^\n",
      "/dss/dsshome1/00/ge72puf2/spack/opt/linux-sles15-haswell/nest/3.4-gcc-11.2.0-g3xsuwt/include/nest/connector_model.h:184:3: note: in instantiation of member function 'nest::GenericConnectorModel<nest::stdp_depression7849465c1f8d4551a665e78a5fcebef7_nestml__with_izhikevich_custom7849465c1f8d4551a665e78a5fcebef7_nestml<nest::TargetIdentifierPtrRport>>::add_connection' requested here\n",
      "  GenericConnectorModel( const std::string name,\n",
      "  ^\n",
      "/dss/dsshome1/00/ge72puf2/spack/opt/linux-sles15-haswell/nest/3.4-gcc-11.2.0-g3xsuwt/include/nest/model_manager_impl.h:61:28: note: in instantiation of member function 'nest::GenericConnectorModel<nest::stdp_depression7849465c1f8d4551a665e78a5fcebef7_nestml__with_izhikevich_custom7849465c1f8d4551a665e78a5fcebef7_nestml<nest::TargetIdentifierPtrRport>>::GenericConnectorModel' requested here\n",
      "  ConnectorModel* cf = new GenericConnectorModel< ConnectionT< TargetIdentifierPtrRport > >( name,\n",
      "                           ^\n",
      "/dss/dsshome1/00/ge72puf2/spack/opt/linux-sles15-haswell/nest/3.4-gcc-11.2.0-g3xsuwt/include/nest/nest_impl.h:35:26: note: in instantiation of function template specialization 'nest::ModelManager::register_connection_model<nest::stdp_depression7849465c1f8d4551a665e78a5fcebef7_nestml__with_izhikevich_custom7849465c1f8d4551a665e78a5fcebef7_nestml>' requested here\n",
      "  kernel().model_manager.register_connection_model< ConnectorModelT >( name, flags );\n",
      "                         ^\n",
      "/dss/dsshome1/00/ge72puf2/structfun/target/nestml_7849465c1f8d4551a665e78a5fcebef7_module.cpp:111:11: note: in instantiation of function template specialization 'nest::register_connection_model<nest::stdp_depression7849465c1f8d4551a665e78a5fcebef7_nestml__with_izhikevich_custom7849465c1f8d4551a665e78a5fcebef7_nestml>' requested here\n",
      "    nest::register_connection_model< nest::stdp_depression7849465c1f8d4551a665e78a5fcebef7_nestml__with_izhikevich_custom7849465c1f8d4551a665e78a5fcebef7_nestml >( \"stdp_depression7849465c1f8d4551a665e78a5fcebef7_nestml__with_izhikevich_custom7849465c1f8d4551a665e78a5fcebef7_nestml\" );\n",
      "          ^\n",
      "In file included from /dss/dsshome1/00/ge72puf2/structfun/target/nestml_7849465c1f8d4551a665e78a5fcebef7_module.cpp:52:\n",
      "/dss/dsshome1/00/ge72puf2/structfun/target/stdp_depression7849465c1f8d4551a665e78a5fcebef7_nestml__with_izhikevich_custom7849465c1f8d4551a665e78a5fcebef7_nestml.h:527:14: warning: unused variable 'get_t' [-Wunused-variable]\n",
      "        auto get_t = [_tr_t](){ return _tr_t; };   // do not remove, this is in case the predefined time variable ``t`` is used in the NESTML model      \n",
      "             ^\n",
      "/dss/dsshome1/00/ge72puf2/structfun/target/stdp_depression7849465c1f8d4551a665e78a5fcebef7_nestml__with_izhikevich_custom7849465c1f8d4551a665e78a5fcebef7_nestml.h:557:14: warning: unused variable 'get_t' [-Wunused-variable]\n",
      "        auto get_t = [__t_spike](){ return __t_spike; };    // do not remove, this is in case the predefined time variable ``t`` is used in the NESTML model        \n",
      "             ^\n",
      "/dss/dsshome1/00/ge72puf2/structfun/target/stdp_depression7849465c1f8d4551a665e78a5fcebef7_nestml__with_izhikevich_custom7849465c1f8d4551a665e78a5fcebef7_nestml.h:594:14: warning: unused variable 'get_t' [-Wunused-variable]\n",
      "        auto get_t = [__t_spike](){ return __t_spike; };    // do not remove, this is in case the predefined time variable ``t`` is used in the NESTML model      \n",
      "             ^\n",
      "/dss/dsshome1/00/ge72puf2/structfun/target/stdp_depression7849465c1f8d4551a665e78a5fcebef7_nestml__with_izhikevich_custom7849465c1f8d4551a665e78a5fcebef7_nestml.h:856:8: warning: unused variable 'get_t' [-Wunused-variable]\n",
      "  auto get_t = [t_start](){ return t_start; };   // do not remove, this is in case the predefined time variable ``t`` is used in the NESTML model\n",
      "       ^\n",
      "/dss/dsshome1/00/ge72puf2/structfun/target/stdp_depression7849465c1f8d4551a665e78a5fcebef7_nestml__with_izhikevich_custom7849465c1f8d4551a665e78a5fcebef7_nestml.h:522:9: note: in instantiation of member function 'nest::stdp_depression7849465c1f8d4551a665e78a5fcebef7_nestml__with_izhikevich_custom7849465c1f8d4551a665e78a5fcebef7_nestml<nest::TargetIdentifierPtrRport>::update_internal_state_' requested here\n",
      "        update_internal_state_(t_lastspike_, (start->t_ + __dendritic_delay) - t_lastspike_, cp);\n",
      "        ^\n",
      "/dss/dsshome1/00/ge72puf2/spack/opt/linux-sles15-haswell/nest/3.4-gcc-11.2.0-g3xsuwt/include/nest/connector_base.h:379:18: note: in instantiation of member function 'nest::stdp_depression7849465c1f8d4551a665e78a5fcebef7_nestml__with_izhikevich_custom7849465c1f8d4551a665e78a5fcebef7_nestml<nest::TargetIdentifierPtrRport>::send' requested here\n",
      "      C_[ lcid ].send(\n",
      "                 ^\n",
      "/dss/dsshome1/00/ge72puf2/spack/opt/linux-sles15-haswell/nest/3.4-gcc-11.2.0-g3xsuwt/include/nest/connector_base.h:223:12: note: in instantiation of member function 'nest::Connector<nest::stdp_depression7849465c1f8d4551a665e78a5fcebef7_nestml__with_izhikevich_custom7849465c1f8d4551a665e78a5fcebef7_nestml<nest::TargetIdentifierPtrRport>>::send_to_all' requested here\n",
      "  explicit Connector( const synindex syn_id )\n",
      "           ^\n",
      "/dss/dsshome1/00/ge72puf2/spack/opt/linux-sles15-haswell/nest/3.4-gcc-11.2.0-g3xsuwt/include/nest/connector_model_impl.h:274:45: note: in instantiation of member function 'nest::Connector<nest::stdp_depression7849465c1f8d4551a665e78a5fcebef7_nestml__with_izhikevich_custom7849465c1f8d4551a665e78a5fcebef7_nestml<nest::TargetIdentifierPtrRport>>::Connector' requested here\n",
      "    thread_local_connectors[ syn_id ] = new Connector< ConnectionT >( syn_id );\n",
      "                                            ^\n",
      "/dss/dsshome1/00/ge72puf2/spack/opt/linux-sles15-haswell/nest/3.4-gcc-11.2.0-g3xsuwt/include/nest/connector_model_impl.h:255:3: note: in instantiation of member function 'nest::GenericConnectorModel<nest::stdp_depression7849465c1f8d4551a665e78a5fcebef7_nestml__with_izhikevich_custom7849465c1f8d4551a665e78a5fcebef7_nestml<nest::TargetIdentifierPtrRport>>::add_connection_' requested here\n",
      "  add_connection_( src, tgt, thread_local_connectors, syn_id, connection, actual_receptor_type );\n",
      "  ^\n",
      "/dss/dsshome1/00/ge72puf2/spack/opt/linux-sles15-haswell/nest/3.4-gcc-11.2.0-g3xsuwt/include/nest/connector_model.h:184:3: note: in instantiation of member function 'nest::GenericConnectorModel<nest::stdp_depression7849465c1f8d4551a665e78a5fcebef7_nestml__with_izhikevich_custom7849465c1f8d4551a665e78a5fcebef7_nestml<nest::TargetIdentifierPtrRport>>::add_connection' requested here\n",
      "  GenericConnectorModel( const std::string name,\n",
      "  ^\n",
      "/dss/dsshome1/00/ge72puf2/spack/opt/linux-sles15-haswell/nest/3.4-gcc-11.2.0-g3xsuwt/include/nest/model_manager_impl.h:61:28: note: in instantiation of member function 'nest::GenericConnectorModel<nest::stdp_depression7849465c1f8d4551a665e78a5fcebef7_nestml__with_izhikevich_custom7849465c1f8d4551a665e78a5fcebef7_nestml<nest::TargetIdentifierPtrRport>>::GenericConnectorModel' requested here\n",
      "  ConnectorModel* cf = new GenericConnectorModel< ConnectionT< TargetIdentifierPtrRport > >( name,\n",
      "                           ^\n",
      "/dss/dsshome1/00/ge72puf2/spack/opt/linux-sles15-haswell/nest/3.4-gcc-11.2.0-g3xsuwt/include/nest/nest_impl.h:35:26: note: in instantiation of function template specialization 'nest::ModelManager::register_connection_model<nest::stdp_depression7849465c1f8d4551a665e78a5fcebef7_nestml__with_izhikevich_custom7849465c1f8d4551a665e78a5fcebef7_nestml>' requested here\n",
      "  kernel().model_manager.register_connection_model< ConnectorModelT >( name, flags );\n",
      "                         ^\n",
      "/dss/dsshome1/00/ge72puf2/structfun/target/nestml_7849465c1f8d4551a665e78a5fcebef7_module.cpp:111:11: note: in instantiation of function template specialization 'nest::register_connection_model<nest::stdp_depression7849465c1f8d4551a665e78a5fcebef7_nestml__with_izhikevich_custom7849465c1f8d4551a665e78a5fcebef7_nestml>' requested here\n",
      "    nest::register_connection_model< nest::stdp_depression7849465c1f8d4551a665e78a5fcebef7_nestml__with_izhikevich_custom7849465c1f8d4551a665e78a5fcebef7_nestml >( \"stdp_depression7849465c1f8d4551a665e78a5fcebef7_nestml__with_izhikevich_custom7849465c1f8d4551a665e78a5fcebef7_nestml\" );\n",
      "          ^\n",
      "In file included from /dss/dsshome1/00/ge72puf2/structfun/target/nestml_7849465c1f8d4551a665e78a5fcebef7_module.cpp:52:\n",
      "/dss/dsshome1/00/ge72puf2/structfun/target/stdp_depression7849465c1f8d4551a665e78a5fcebef7_nestml__with_izhikevich_custom7849465c1f8d4551a665e78a5fcebef7_nestml.h:446:7: warning: expression result unused [-Wunused-value]\n",
      "      dynamic_cast<izhikevich_custom7849465c1f8d4551a665e78a5fcebef7_nestml__with_stdp_depression7849465c1f8d4551a665e78a5fcebef7_nestml&>(t);\n",
      "      ^~~~~~~~~~~~~~~~~~~~~~~~~~~~~~~~~~~~~~~~~~~~~~~~~~~~~~~~~~~~~~~~~~~~~~~~~~~~~~~~~~~~~~~~~~~~~~~~~~~~~~~~~~~~~~~~~~~~~~~~~~~~~~~~~~~~~~~\n",
      "/dss/dsshome1/00/ge72puf2/spack/opt/linux-sles15-haswell/nest/3.4-gcc-11.2.0-g3xsuwt/include/nest/connector_model_impl.h:279:14: note: in instantiation of member function 'nest::stdp_depression7849465c1f8d4551a665e78a5fcebef7_nestml__with_izhikevich_custom7849465c1f8d4551a665e78a5fcebef7_nestml<nest::TargetIdentifierPtrRport>::check_connection' requested here\n",
      "  connection.check_connection( src, tgt, receptor_type, get_common_properties() );\n",
      "             ^\n",
      "/dss/dsshome1/00/ge72puf2/spack/opt/linux-sles15-haswell/nest/3.4-gcc-11.2.0-g3xsuwt/include/nest/connector_model_impl.h:255:3: note: in instantiation of member function 'nest::GenericConnectorModel<nest::stdp_depression7849465c1f8d4551a665e78a5fcebef7_nestml__with_izhikevich_custom7849465c1f8d4551a665e78a5fcebef7_nestml<nest::TargetIdentifierPtrRport>>::add_connection_' requested here\n",
      "  add_connection_( src, tgt, thread_local_connectors, syn_id, connection, actual_receptor_type );\n",
      "  ^\n",
      "/dss/dsshome1/00/ge72puf2/spack/opt/linux-sles15-haswell/nest/3.4-gcc-11.2.0-g3xsuwt/include/nest/connector_model.h:184:3: note: in instantiation of member function 'nest::GenericConnectorModel<nest::stdp_depression7849465c1f8d4551a665e78a5fcebef7_nestml__with_izhikevich_custom7849465c1f8d4551a665e78a5fcebef7_nestml<nest::TargetIdentifierPtrRport>>::add_connection' requested here\n",
      "  GenericConnectorModel( const std::string name,\n",
      "  ^\n",
      "/dss/dsshome1/00/ge72puf2/spack/opt/linux-sles15-haswell/nest/3.4-gcc-11.2.0-g3xsuwt/include/nest/model_manager_impl.h:61:28: note: in instantiation of member function 'nest::GenericConnectorModel<nest::stdp_depression7849465c1f8d4551a665e78a5fcebef7_nestml__with_izhikevich_custom7849465c1f8d4551a665e78a5fcebef7_nestml<nest::TargetIdentifierPtrRport>>::GenericConnectorModel' requested here\n",
      "  ConnectorModel* cf = new GenericConnectorModel< ConnectionT< TargetIdentifierPtrRport > >( name,\n",
      "                           ^\n",
      "/dss/dsshome1/00/ge72puf2/spack/opt/linux-sles15-haswell/nest/3.4-gcc-11.2.0-g3xsuwt/include/nest/nest_impl.h:35:26: note: in instantiation of function template specialization 'nest::ModelManager::register_connection_model<nest::stdp_depression7849465c1f8d4551a665e78a5fcebef7_nestml__with_izhikevich_custom7849465c1f8d4551a665e78a5fcebef7_nestml>' requested here\n",
      "  kernel().model_manager.register_connection_model< ConnectorModelT >( name, flags );\n",
      "                         ^\n",
      "/dss/dsshome1/00/ge72puf2/structfun/target/nestml_7849465c1f8d4551a665e78a5fcebef7_module.cpp:111:11: note: in instantiation of function template specialization 'nest::register_connection_model<nest::stdp_depression7849465c1f8d4551a665e78a5fcebef7_nestml__with_izhikevich_custom7849465c1f8d4551a665e78a5fcebef7_nestml>' requested here\n",
      "    nest::register_connection_model< nest::stdp_depression7849465c1f8d4551a665e78a5fcebef7_nestml__with_izhikevich_custom7849465c1f8d4551a665e78a5fcebef7_nestml >( \"stdp_depression7849465c1f8d4551a665e78a5fcebef7_nestml__with_izhikevich_custom7849465c1f8d4551a665e78a5fcebef7_nestml\" );\n",
      "          ^\n",
      "In file included from /dss/dsshome1/00/ge72puf2/structfun/target/nestml_7849465c1f8d4551a665e78a5fcebef7_module.cpp:52:\n",
      "/dss/dsshome1/00/ge72puf2/structfun/target/stdp_depression7849465c1f8d4551a665e78a5fcebef7_nestml__with_izhikevich_custom7849465c1f8d4551a665e78a5fcebef7_nestml.h:460:10: warning: unused variable 'get_thread' [-Wunused-variable]\n",
      "    auto get_thread = [tid]()\n",
      "         ^\n",
      "/dss/dsshome1/00/ge72puf2/spack/opt/linux-sles15-haswell/nest/3.4-gcc-11.2.0-g3xsuwt/include/nest/connector_base.h:379:18: note: in instantiation of member function 'nest::stdp_depression7849465c1f8d4551a665e78a5fcebef7_nestml__with_izhikevich_custom7849465c1f8d4551a665e78a5fcebef7_nestml<nest::TargetIdentifierIndex>::send' requested here\n",
      "      C_[ lcid ].send(\n",
      "                 ^\n",
      "/dss/dsshome1/00/ge72puf2/spack/opt/linux-sles15-haswell/nest/3.4-gcc-11.2.0-g3xsuwt/include/nest/connector_base.h:223:12: note: in instantiation of member function 'nest::Connector<nest::stdp_depression7849465c1f8d4551a665e78a5fcebef7_nestml__with_izhikevich_custom7849465c1f8d4551a665e78a5fcebef7_nestml<nest::TargetIdentifierIndex>>::send_to_all' requested here\n",
      "  explicit Connector( const synindex syn_id )\n",
      "           ^\n",
      "/dss/dsshome1/00/ge72puf2/spack/opt/linux-sles15-haswell/nest/3.4-gcc-11.2.0-g3xsuwt/include/nest/connector_model_impl.h:274:45: note: in instantiation of member function 'nest::Connector<nest::stdp_depression7849465c1f8d4551a665e78a5fcebef7_nestml__with_izhikevich_custom7849465c1f8d4551a665e78a5fcebef7_nestml<nest::TargetIdentifierIndex>>::Connector' requested here\n",
      "    thread_local_connectors[ syn_id ] = new Connector< ConnectionT >( syn_id );\n",
      "                                            ^\n",
      "/dss/dsshome1/00/ge72puf2/spack/opt/linux-sles15-haswell/nest/3.4-gcc-11.2.0-g3xsuwt/include/nest/connector_model_impl.h:255:3: note: in instantiation of member function 'nest::GenericConnectorModel<nest::stdp_depression7849465c1f8d4551a665e78a5fcebef7_nestml__with_izhikevich_custom7849465c1f8d4551a665e78a5fcebef7_nestml<nest::TargetIdentifierIndex>>::add_connection_' requested here\n",
      "  add_connection_( src, tgt, thread_local_connectors, syn_id, connection, actual_receptor_type );\n",
      "  ^\n",
      "/dss/dsshome1/00/ge72puf2/spack/opt/linux-sles15-haswell/nest/3.4-gcc-11.2.0-g3xsuwt/include/nest/connector_model.h:184:3: note: in instantiation of member function 'nest::GenericConnectorModel<nest::stdp_depression7849465c1f8d4551a665e78a5fcebef7_nestml__with_izhikevich_custom7849465c1f8d4551a665e78a5fcebef7_nestml<nest::TargetIdentifierIndex>>::add_connection' requested here\n",
      "  GenericConnectorModel( const std::string name,\n",
      "  ^\n",
      "/dss/dsshome1/00/ge72puf2/spack/opt/linux-sles15-haswell/nest/3.4-gcc-11.2.0-g3xsuwt/include/nest/model_manager_impl.h:73:14: note: in instantiation of member function 'nest::GenericConnectorModel<nest::stdp_depression7849465c1f8d4551a665e78a5fcebef7_nestml__with_izhikevich_custom7849465c1f8d4551a665e78a5fcebef7_nestml<nest::TargetIdentifierIndex>>::GenericConnectorModel' requested here\n",
      "    cf = new GenericConnectorModel< ConnectionT< TargetIdentifierIndex > >( name + \"_hpc\",\n",
      "             ^\n",
      "/dss/dsshome1/00/ge72puf2/spack/opt/linux-sles15-haswell/nest/3.4-gcc-11.2.0-g3xsuwt/include/nest/nest_impl.h:35:26: note: in instantiation of function template specialization 'nest::ModelManager::register_connection_model<nest::stdp_depression7849465c1f8d4551a665e78a5fcebef7_nestml__with_izhikevich_custom7849465c1f8d4551a665e78a5fcebef7_nestml>' requested here\n",
      "  kernel().model_manager.register_connection_model< ConnectorModelT >( name, flags );\n",
      "                         ^\n",
      "/dss/dsshome1/00/ge72puf2/structfun/target/nestml_7849465c1f8d4551a665e78a5fcebef7_module.cpp:111:11: note: in instantiation of function template specialization 'nest::register_connection_model<nest::stdp_depression7849465c1f8d4551a665e78a5fcebef7_nestml__with_izhikevich_custom7849465c1f8d4551a665e78a5fcebef7_nestml>' requested here\n",
      "    nest::register_connection_model< nest::stdp_depression7849465c1f8d4551a665e78a5fcebef7_nestml__with_izhikevich_custom7849465c1f8d4551a665e78a5fcebef7_nestml >( \"stdp_depression7849465c1f8d4551a665e78a5fcebef7_nestml__with_izhikevich_custom7849465c1f8d4551a665e78a5fcebef7_nestml\" );\n",
      "          ^\n",
      "In file included from /dss/dsshome1/00/ge72puf2/structfun/target/nestml_7849465c1f8d4551a665e78a5fcebef7_module.cpp:52:\n",
      "/dss/dsshome1/00/ge72puf2/structfun/target/stdp_depression7849465c1f8d4551a665e78a5fcebef7_nestml__with_izhikevich_custom7849465c1f8d4551a665e78a5fcebef7_nestml.h:527:14: warning: unused variable 'get_t' [-Wunused-variable]\n",
      "        auto get_t = [_tr_t](){ return _tr_t; };   // do not remove, this is in case the predefined time variable ``t`` is used in the NESTML model      \n",
      "             ^\n",
      "/dss/dsshome1/00/ge72puf2/structfun/target/stdp_depression7849465c1f8d4551a665e78a5fcebef7_nestml__with_izhikevich_custom7849465c1f8d4551a665e78a5fcebef7_nestml.h:557:14: warning: unused variable 'get_t' [-Wunused-variable]\n",
      "        auto get_t = [__t_spike](){ return __t_spike; };    // do not remove, this is in case the predefined time variable ``t`` is used in the NESTML model        \n",
      "             ^\n",
      "/dss/dsshome1/00/ge72puf2/structfun/target/stdp_depression7849465c1f8d4551a665e78a5fcebef7_nestml__with_izhikevich_custom7849465c1f8d4551a665e78a5fcebef7_nestml.h:594:14: warning: unused variable 'get_t' [-Wunused-variable]\n",
      "        auto get_t = [__t_spike](){ return __t_spike; };    // do not remove, this is in case the predefined time variable ``t`` is used in the NESTML model      \n",
      "             ^\n",
      "/dss/dsshome1/00/ge72puf2/structfun/target/stdp_depression7849465c1f8d4551a665e78a5fcebef7_nestml__with_izhikevich_custom7849465c1f8d4551a665e78a5fcebef7_nestml.h:856:8: warning: unused variable 'get_t' [-Wunused-variable]\n",
      "  auto get_t = [t_start](){ return t_start; };   // do not remove, this is in case the predefined time variable ``t`` is used in the NESTML model\n",
      "       ^\n",
      "/dss/dsshome1/00/ge72puf2/structfun/target/stdp_depression7849465c1f8d4551a665e78a5fcebef7_nestml__with_izhikevich_custom7849465c1f8d4551a665e78a5fcebef7_nestml.h:522:9: note: in instantiation of member function 'nest::stdp_depression7849465c1f8d4551a665e78a5fcebef7_nestml__with_izhikevich_custom7849465c1f8d4551a665e78a5fcebef7_nestml<nest::TargetIdentifierIndex>::update_internal_state_' requested here\n",
      "        update_internal_state_(t_lastspike_, (start->t_ + __dendritic_delay) - t_lastspike_, cp);\n",
      "        ^\n",
      "/dss/dsshome1/00/ge72puf2/spack/opt/linux-sles15-haswell/nest/3.4-gcc-11.2.0-g3xsuwt/include/nest/connector_base.h:379:18: note: in instantiation of member function 'nest::stdp_depression7849465c1f8d4551a665e78a5fcebef7_nestml__with_izhikevich_custom7849465c1f8d4551a665e78a5fcebef7_nestml<nest::TargetIdentifierIndex>::send' requested here\n",
      "      C_[ lcid ].send(\n",
      "                 ^\n",
      "/dss/dsshome1/00/ge72puf2/spack/opt/linux-sles15-haswell/nest/3.4-gcc-11.2.0-g3xsuwt/include/nest/connector_base.h:223:12: note: in instantiation of member function 'nest::Connector<nest::stdp_depression7849465c1f8d4551a665e78a5fcebef7_nestml__with_izhikevich_custom7849465c1f8d4551a665e78a5fcebef7_nestml<nest::TargetIdentifierIndex>>::send_to_all' requested here\n",
      "  explicit Connector( const synindex syn_id )\n",
      "           ^\n",
      "/dss/dsshome1/00/ge72puf2/spack/opt/linux-sles15-haswell/nest/3.4-gcc-11.2.0-g3xsuwt/include/nest/connector_model_impl.h:274:45: note: in instantiation of member function 'nest::Connector<nest::stdp_depression7849465c1f8d4551a665e78a5fcebef7_nestml__with_izhikevich_custom7849465c1f8d4551a665e78a5fcebef7_nestml<nest::TargetIdentifierIndex>>::Connector' requested here\n",
      "    thread_local_connectors[ syn_id ] = new Connector< ConnectionT >( syn_id );\n",
      "                                            ^\n",
      "/dss/dsshome1/00/ge72puf2/spack/opt/linux-sles15-haswell/nest/3.4-gcc-11.2.0-g3xsuwt/include/nest/connector_model_impl.h:255:3: note: in instantiation of member function 'nest::GenericConnectorModel<nest::stdp_depression7849465c1f8d4551a665e78a5fcebef7_nestml__with_izhikevich_custom7849465c1f8d4551a665e78a5fcebef7_nestml<nest::TargetIdentifierIndex>>::add_connection_' requested here\n",
      "  add_connection_( src, tgt, thread_local_connectors, syn_id, connection, actual_receptor_type );\n",
      "  ^\n",
      "/dss/dsshome1/00/ge72puf2/spack/opt/linux-sles15-haswell/nest/3.4-gcc-11.2.0-g3xsuwt/include/nest/connector_model.h:184:3: note: in instantiation of member function 'nest::GenericConnectorModel<nest::stdp_depression7849465c1f8d4551a665e78a5fcebef7_nestml__with_izhikevich_custom7849465c1f8d4551a665e78a5fcebef7_nestml<nest::TargetIdentifierIndex>>::add_connection' requested here\n",
      "  GenericConnectorModel( const std::string name,\n",
      "  ^\n",
      "/dss/dsshome1/00/ge72puf2/spack/opt/linux-sles15-haswell/nest/3.4-gcc-11.2.0-g3xsuwt/include/nest/model_manager_impl.h:73:14: note: in instantiation of member function 'nest::GenericConnectorModel<nest::stdp_depression7849465c1f8d4551a665e78a5fcebef7_nestml__with_izhikevich_custom7849465c1f8d4551a665e78a5fcebef7_nestml<nest::TargetIdentifierIndex>>::GenericConnectorModel' requested here\n",
      "    cf = new GenericConnectorModel< ConnectionT< TargetIdentifierIndex > >( name + \"_hpc\",\n",
      "             ^\n",
      "/dss/dsshome1/00/ge72puf2/spack/opt/linux-sles15-haswell/nest/3.4-gcc-11.2.0-g3xsuwt/include/nest/nest_impl.h:35:26: note: in instantiation of function template specialization 'nest::ModelManager::register_connection_model<nest::stdp_depression7849465c1f8d4551a665e78a5fcebef7_nestml__with_izhikevich_custom7849465c1f8d4551a665e78a5fcebef7_nestml>' requested here\n",
      "  kernel().model_manager.register_connection_model< ConnectorModelT >( name, flags );\n",
      "                         ^\n",
      "/dss/dsshome1/00/ge72puf2/structfun/target/nestml_7849465c1f8d4551a665e78a5fcebef7_module.cpp:111:11: note: in instantiation of function template specialization 'nest::register_connection_model<nest::stdp_depression7849465c1f8d4551a665e78a5fcebef7_nestml__with_izhikevich_custom7849465c1f8d4551a665e78a5fcebef7_nestml>' requested here\n",
      "    nest::register_connection_model< nest::stdp_depression7849465c1f8d4551a665e78a5fcebef7_nestml__with_izhikevich_custom7849465c1f8d4551a665e78a5fcebef7_nestml >( \"stdp_depression7849465c1f8d4551a665e78a5fcebef7_nestml__with_izhikevich_custom7849465c1f8d4551a665e78a5fcebef7_nestml\" );\n",
      "          ^\n",
      "In file included from /dss/dsshome1/00/ge72puf2/structfun/target/nestml_7849465c1f8d4551a665e78a5fcebef7_module.cpp:52:\n",
      "/dss/dsshome1/00/ge72puf2/structfun/target/stdp_depression7849465c1f8d4551a665e78a5fcebef7_nestml__with_izhikevich_custom7849465c1f8d4551a665e78a5fcebef7_nestml.h:446:7: warning: expression result unused [-Wunused-value]\n",
      "      dynamic_cast<izhikevich_custom7849465c1f8d4551a665e78a5fcebef7_nestml__with_stdp_depression7849465c1f8d4551a665e78a5fcebef7_nestml&>(t);\n",
      "      ^~~~~~~~~~~~~~~~~~~~~~~~~~~~~~~~~~~~~~~~~~~~~~~~~~~~~~~~~~~~~~~~~~~~~~~~~~~~~~~~~~~~~~~~~~~~~~~~~~~~~~~~~~~~~~~~~~~~~~~~~~~~~~~~~~~~~~~\n",
      "/dss/dsshome1/00/ge72puf2/spack/opt/linux-sles15-haswell/nest/3.4-gcc-11.2.0-g3xsuwt/include/nest/connector_model_impl.h:279:14: note: in instantiation of member function 'nest::stdp_depression7849465c1f8d4551a665e78a5fcebef7_nestml__with_izhikevich_custom7849465c1f8d4551a665e78a5fcebef7_nestml<nest::TargetIdentifierIndex>::check_connection' requested here\n",
      "  connection.check_connection( src, tgt, receptor_type, get_common_properties() );\n",
      "             ^\n",
      "/dss/dsshome1/00/ge72puf2/spack/opt/linux-sles15-haswell/nest/3.4-gcc-11.2.0-g3xsuwt/include/nest/connector_model_impl.h:255:3: note: in instantiation of member function 'nest::GenericConnectorModel<nest::stdp_depression7849465c1f8d4551a665e78a5fcebef7_nestml__with_izhikevich_custom7849465c1f8d4551a665e78a5fcebef7_nestml<nest::TargetIdentifierIndex>>::add_connection_' requested here\n",
      "  add_connection_( src, tgt, thread_local_connectors, syn_id, connection, actual_receptor_type );\n",
      "  ^\n",
      "/dss/dsshome1/00/ge72puf2/spack/opt/linux-sles15-haswell/nest/3.4-gcc-11.2.0-g3xsuwt/include/nest/connector_model.h:184:3: note: in instantiation of member function 'nest::GenericConnectorModel<nest::stdp_depression7849465c1f8d4551a665e78a5fcebef7_nestml__with_izhikevich_custom7849465c1f8d4551a665e78a5fcebef7_nestml<nest::TargetIdentifierIndex>>::add_connection' requested here\n",
      "  GenericConnectorModel( const std::string name,\n",
      "  ^\n",
      "/dss/dsshome1/00/ge72puf2/spack/opt/linux-sles15-haswell/nest/3.4-gcc-11.2.0-g3xsuwt/include/nest/model_manager_impl.h:73:14: note: in instantiation of member function 'nest::GenericConnectorModel<nest::stdp_depression7849465c1f8d4551a665e78a5fcebef7_nestml__with_izhikevich_custom7849465c1f8d4551a665e78a5fcebef7_nestml<nest::TargetIdentifierIndex>>::GenericConnectorModel' requested here\n",
      "    cf = new GenericConnectorModel< ConnectionT< TargetIdentifierIndex > >( name + \"_hpc\",\n",
      "             ^\n",
      "/dss/dsshome1/00/ge72puf2/spack/opt/linux-sles15-haswell/nest/3.4-gcc-11.2.0-g3xsuwt/include/nest/nest_impl.h:35:26: note: in instantiation of function template specialization 'nest::ModelManager::register_connection_model<nest::stdp_depression7849465c1f8d4551a665e78a5fcebef7_nestml__with_izhikevich_custom7849465c1f8d4551a665e78a5fcebef7_nestml>' requested here\n",
      "  kernel().model_manager.register_connection_model< ConnectorModelT >( name, flags );\n",
      "                         ^\n",
      "/dss/dsshome1/00/ge72puf2/structfun/target/nestml_7849465c1f8d4551a665e78a5fcebef7_module.cpp:111:11: note: in instantiation of function template specialization 'nest::register_connection_model<nest::stdp_depression7849465c1f8d4551a665e78a5fcebef7_nestml__with_izhikevich_custom7849465c1f8d4551a665e78a5fcebef7_nestml>' requested here\n",
      "    nest::register_connection_model< nest::stdp_depression7849465c1f8d4551a665e78a5fcebef7_nestml__with_izhikevich_custom7849465c1f8d4551a665e78a5fcebef7_nestml >( \"stdp_depression7849465c1f8d4551a665e78a5fcebef7_nestml__with_izhikevich_custom7849465c1f8d4551a665e78a5fcebef7_nestml\" );\n",
      "          ^\n",
      "20 warnings generated.\n",
      "[ 50%] \u001b[32mBuilding CXX object CMakeFiles/nestml_7849465c1f8d4551a665e78a5fcebef7_module_module.dir/izhikevich_custom7849465c1f8d4551a665e78a5fcebef7_nestml.o\u001b[0m\n",
      "/dss/dsshome1/00/ge72puf2/structfun/target/izhikevich_custom7849465c1f8d4551a665e78a5fcebef7_nestml.cpp:106:16: warning: unused variable '__resolution' [-Wunused-variable]\n",
      "  const double __resolution = nest::Time::get_resolution().get_ms();  // do not remove, this is necessary for the resolution() function\n",
      "               ^\n",
      "/dss/dsshome1/00/ge72puf2/structfun/target/izhikevich_custom7849465c1f8d4551a665e78a5fcebef7_nestml.cpp:282:10: warning: unused variable 'get_t' [-Wunused-variable]\n",
      "    auto get_t = [origin, lag](){ return nest::Time( nest::Time::step( origin.get_steps() + lag + 1) ).get_ms(); };\n",
      "         ^\n",
      "/dss/dsshome1/00/ge72puf2/structfun/target/izhikevich_custom7849465c1f8d4551a665e78a5fcebef7_nestml.cpp:276:16: warning: unused variable '__resolution' [-Wunused-variable]\n",
      "  const double __resolution = nest::Time::get_resolution().get_ms();  // do not remove, this is necessary for the resolution() function\n",
      "               ^\n",
      "3 warnings generated.\n",
      "[ 75%] \u001b[32mBuilding CXX object CMakeFiles/nestml_7849465c1f8d4551a665e78a5fcebef7_module_module.dir/izhikevich_custom7849465c1f8d4551a665e78a5fcebef7_nestml__with_stdp_depression7849465c1f8d4551a665e78a5fcebef7_nestml.o\u001b[0m\n",
      "In file included from /dss/dsshome1/00/ge72puf2/structfun/target/izhikevich_custom7849465c1f8d4551a665e78a5fcebef7_nestml__with_stdp_depression7849465c1f8d4551a665e78a5fcebef7_nestml.cpp:43:\n",
      "/dss/dsshome1/00/ge72puf2/structfun/target/izhikevich_custom7849465c1f8d4551a665e78a5fcebef7_nestml__with_stdp_depression7849465c1f8d4551a665e78a5fcebef7_nestml.h:209:8: warning: 'register_stdp_connection' overrides a member function but is not marked 'override' [-Winconsistent-missing-override]\n",
      "  void register_stdp_connection( double t_first_read, double delay );\n",
      "       ^\n",
      "/dss/dsshome1/00/ge72puf2/spack/opt/linux-sles15-haswell/nest/3.4-gcc-11.2.0-g3xsuwt/include/nest/node.h:457:16: note: overridden virtual function is here\n",
      "  virtual void register_stdp_connection( double, double );\n",
      "               ^\n",
      "/dss/dsshome1/00/ge72puf2/structfun/target/izhikevich_custom7849465c1f8d4551a665e78a5fcebef7_nestml__with_stdp_depression7849465c1f8d4551a665e78a5fcebef7_nestml.cpp:107:16: warning: unused variable '__resolution' [-Wunused-variable]\n",
      "  const double __resolution = nest::Time::get_resolution().get_ms();  // do not remove, this is necessary for the resolution() function\n",
      "               ^\n",
      "/dss/dsshome1/00/ge72puf2/structfun/target/izhikevich_custom7849465c1f8d4551a665e78a5fcebef7_nestml__with_stdp_depression7849465c1f8d4551a665e78a5fcebef7_nestml.cpp:312:10: warning: unused variable 'get_t' [-Wunused-variable]\n",
      "    auto get_t = [origin, lag](){ return nest::Time( nest::Time::step( origin.get_steps() + lag + 1) ).get_ms(); };\n",
      "         ^\n",
      "/dss/dsshome1/00/ge72puf2/structfun/target/izhikevich_custom7849465c1f8d4551a665e78a5fcebef7_nestml__with_stdp_depression7849465c1f8d4551a665e78a5fcebef7_nestml.cpp:306:16: warning: unused variable '__resolution' [-Wunused-variable]\n",
      "  const double __resolution = nest::Time::get_resolution().get_ms();  // do not remove, this is necessary for the resolution() function\n",
      "               ^\n",
      "4 warnings generated.\n",
      "[100%] \u001b[32m\u001b[1mLinking CXX shared module nestml_7849465c1f8d4551a665e78a5fcebef7_module.so\u001b[0m\n",
      "[100%] Built target nestml_7849465c1f8d4551a665e78a5fcebef7_module_module\n",
      "[100%] Built target nestml_7849465c1f8d4551a665e78a5fcebef7_module_module\n",
      "\u001b[36mInstall the project...\u001b[0m\n",
      "-- Install configuration: \"\"\n",
      "-- Installing: /dss/dsshome1/00/ge72puf2/spack/opt/linux-sles15-haswell/nest/3.4-gcc-11.2.0-g3xsuwt/lib64/nest/nestml_7849465c1f8d4551a665e78a5fcebef7_module.so\n",
      "\n",
      "Aug 08 19:59:20 Install [Info]: \n",
      "    loaded module nestml_7849465c1f8d4551a665e78a5fcebef7_module\n"
     ]
    }
   ],
   "source": [
    "module_name, neuron_model_name, synapse_model_name = NESTCodeGeneratorUtils.generate_code_for(\n",
    "    \"mymodel_nest/izhikevich.nestml\",\n",
    "    \"mymodel_nest/stdp_depression.nestml\",\n",
    "    post_ports=[\"post_spikes\"])\n",
    "\n",
    "nest.Install(module_name)"
   ]
  },
  {
   "cell_type": "code",
   "execution_count": 132,
   "id": "5fcc80d8-5f26-4cb2-b6f1-03de4c7c3af7",
   "metadata": {},
   "outputs": [
    {
     "data": {
      "text/plain": [
       "'izhikevich_custom7849465c1f8d4551a665e78a5fcebef7_nestml__with_stdp_depression7849465c1f8d4551a665e78a5fcebef7_nestml'"
      ]
     },
     "execution_count": 132,
     "metadata": {},
     "output_type": "execute_result"
    }
   ],
   "source": [
    "neuron_model_name"
   ]
  },
  {
   "cell_type": "code",
   "execution_count": 3,
   "id": "55f9ed4b-5876-4c89-8c7d-008e7038cf23",
   "metadata": {},
   "outputs": [],
   "source": [
    "nest.ResetKernel()\n",
    "A = np.loadtxt(\"test_adjacency_mtx.txt\")\n",
    "N = np.shape(A)[0]\n",
    "Pe = 0.8\n",
    "Ne = int(np.ceil(N*Pe))\n",
    "Ni = N - Ne\n",
    "rand_Ne = np.random.rand(Ne)\n",
    "rand_Ni = np.random.rand(Ni)\n",
    "\n",
    "nodes_exc = nest.Create(neuron_model_name, Ne, params={\"a\":0.02, \"b\":0.2, \\\n",
    "                                                        \"c\": -65+15*(rand_Ne)**2, \"d\": 8-6*(rand_Ne)**2})\n",
    "nodes_inh = nest.Create(neuron_model_name, Ni, params={\"a\":0.02+0.08*(rand_Ni), \\\n",
    "                                                         \"b\":0.25-0.05*(rand_Ni), \\\n",
    "                                                        \"c\": -65, \"d\": 2})"
   ]
  },
  {
   "cell_type": "code",
   "execution_count": 4,
   "id": "9eb84a93-aa91-49e7-b362-6bfd35b65857",
   "metadata": {},
   "outputs": [],
   "source": [
    "MAX_EXC_WEIGHT=10\n",
    "MAX_INH_WEIGHT=.5\n",
    "\n",
    "exc_conn = {\"synapse_model\": synapse_model_name, \"delay\": 1, \"weight\":A[0:(Ne+Ni), 0:(Ne)]*np.random.rand(Ne + Ni, Ne)*MAX_EXC_WEIGHT, \"Wmax\" : 100, \"Wmin\":0}\n",
    "inh_conn = {\"synapse_model\": synapse_model_name, \"delay\": 1, \"weight\":-A[0:(Ne+Ni), Ne:(Ne+Ni)]*np.random.rand(Ne + Ni, Ni)*MAX_INH_WEIGHT, \"Wmax\" : -100, \"Wmin\": 0}\n",
    "nest.Connect(nodes_exc, nodes_exc + nodes_inh, \"all_to_all\", exc_conn)\n",
    "nest.Connect(nodes_inh, nodes_exc + nodes_inh, \"all_to_all\", inh_conn)\n"
   ]
  },
  {
   "cell_type": "code",
   "execution_count": 5,
   "id": "efeae8c4-6571-48fd-97fc-03f321253fa3",
   "metadata": {},
   "outputs": [],
   "source": [
    "noise = nest.Create(\"noise_generator\", Ne+Ni)\n",
    "#espikes = nest.Create(\"spike_recorder\")\n",
    "#ispikes = nest.Create(\"spike_recorder\")\n",
    "#espikes.set(label=\"nest_test-ex\", record_to=\"ascii\")\n",
    "#ispikes.set(label=\"nest_test-in\", record_to=\"ascii\")\n",
    "nest.Connect(noise, nodes_exc + nodes_inh, \"one_to_one\")\n",
    "#nest.Connect(nodes_exc, espikes)\n",
    "#nest.Connect(nodes_inh, ispikes)\n"
   ]
  },
  {
   "cell_type": "code",
   "execution_count": 6,
   "id": "981e3536-ebd9-4d8c-afe1-e0d3ea9e03f5",
   "metadata": {},
   "outputs": [],
   "source": [
    "w_targets = np.sum(A, axis = 0)\n",
    "def normalize_weights(neurons_to_be_normalized, w_targets = None):\n",
    "    if w_targets is None:\n",
    "        w_targets = np.ones(len(neurons_to_be_normalized))\n",
    "\n",
    "    for i, neuron in enumerate(neurons_to_be_normalized):\n",
    "        conn = nest.GetConnections(target=neuron)\n",
    "        w = np.array(conn.weight)\n",
    "        w_normed = w / sum(abs(w))  # L1-norm\n",
    "        conn.weight = w_targets[i] * w_normed\n"
   ]
  },
  {
   "cell_type": "code",
   "execution_count": 9,
   "id": "93e74238-4893-423e-ae0c-22232924ccb2",
   "metadata": {},
   "outputs": [],
   "source": [
    "startsim = datetime.now()\n",
    "normalize_weights(nodes_exc + nodes_inh, w_targets)\n",
    "endsim = datetime.now()\n"
   ]
  },
  {
   "cell_type": "code",
   "execution_count": 11,
   "id": "e2579331-2725-4cdd-950b-9db9d3791d79",
   "metadata": {},
   "outputs": [
    {
     "data": {
      "text/plain": [
       "datetime.datetime(2023, 8, 6, 12, 36, 29, 733282)"
      ]
     },
     "execution_count": 11,
     "metadata": {},
     "output_type": "execute_result"
    }
   ],
   "source": [
    "endsim"
   ]
  },
  {
   "cell_type": "code",
   "execution_count": 18,
   "id": "2f7ee548-b6a0-4e19-8f5d-fc9093f1fabb",
   "metadata": {
    "scrolled": true
   },
   "outputs": [
    {
     "name": "stdout",
     "output_type": "stream",
     "text": [
      "\n",
      "Aug 03 17:04:52 NodeManager::prepare_nodes [Info]: \n",
      "    Preparing 1886 nodes for simulation.\n",
      "\n",
      "Aug 03 17:04:52 SimulationManager::start_updating_ [Info]: \n",
      "    Number of local nodes: 1886\n",
      "    Simulation time (ms): 200000\n",
      "    Number of OpenMP threads: 1\n",
      "    Number of MPI processes: 1\n",
      "\n",
      "Aug 03 17:14:21 SimulationManager::run [Info]: \n",
      "    Simulation finished.\n"
     ]
    }
   ],
   "source": [
    "T = 200*10**3 #ms\n",
    "dt = 1 #ms\n",
    "\n",
    "startsim = datetime.now()\n",
    "nest.Simulate(T)\n",
    "endsim = datetime.now()"
   ]
  },
  {
   "cell_type": "code",
   "execution_count": null,
   "id": "577ef520-5e68-45ad-b19c-62d5e64aaf4c",
   "metadata": {},
   "outputs": [],
   "source": []
  }
 ],
 "metadata": {
  "kernelspec": {
   "display_name": "Python 3 (ipykernel)",
   "language": "python",
   "name": "python3"
  },
  "language_info": {
   "codemirror_mode": {
    "name": "ipython",
    "version": 3
   },
   "file_extension": ".py",
   "mimetype": "text/x-python",
   "name": "python",
   "nbconvert_exporter": "python",
   "pygments_lexer": "ipython3",
   "version": "3.8.11"
  }
 },
 "nbformat": 4,
 "nbformat_minor": 5
}
