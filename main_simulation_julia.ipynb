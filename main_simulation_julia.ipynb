{
 "cells": [
  {
   "cell_type": "code",
   "execution_count": 18,
   "id": "bb9a16f8",
   "metadata": {},
   "outputs": [
    {
     "data": {
      "text/plain": [
       "hebbian_adjust! (generic function with 1 method)"
      ]
     },
     "execution_count": 18,
     "metadata": {},
     "output_type": "execute_result"
    }
   ],
   "source": [
    "function hebbian_adjust!(S, fired, rewiring_rate, rowsums_weights, neurontype_idx)\n",
    "    if length(fired) < 2\n",
    "        return nothing\n",
    "    end\n",
    "    \n",
    "    for i in fired\n",
    "        wire_this_to = falses(size(S, 1))\n",
    "        wire_this_to[fired] .= true\n",
    "        unwire_this_from = .!wire_this_to\n",
    "        \n",
    "        inc_weights_sum = rowsums_weights[i]\n",
    "        count_wire = length(fired)\n",
    "        count_unwire = size(S, 1) - count_wire\n",
    "        \n",
    "        wire_by = rewiring_rate * inc_weights_sum / count_wire\n",
    "        unwire_by = rewiring_rate * inc_weights_sum / count_unwire\n",
    "        \n",
    "        S[i, wire_this_to] .= S[i, wire_this_to] .+ wire_by * neurontype_idx[wire_this_to]\n",
    "        S[i, unwire_this_from] .= S[i, unwire_this_from] .- unwire_by * neurontype_idx[unwire_this_from]\n",
    "        \n",
    "        # remove reflectivity (a neuron is always *wired* to itself)\n",
    "        S[i, i] -= wire_by * neurontype_idx[i]\n",
    "    end\n",
    "    \n",
    "    return nothing\n",
    "end\n"
   ]
  },
  {
   "cell_type": "code",
   "execution_count": 11,
   "id": "f927597d",
   "metadata": {},
   "outputs": [],
   "source": [
    "# ported from matlab\n",
    "using DelimitedFiles;\n",
    "using Statistics;\n",
    "using Plots;"
   ]
  },
  {
   "cell_type": "code",
   "execution_count": 12,
   "id": "7a8cb1d2",
   "metadata": {},
   "outputs": [],
   "source": [
    "# SET UP THE NETWORK\n",
    "# 1- NETWORK SIZE:\n",
    "A = readdlm(\"grow_axons/test_colonies/W_2023-05-08_15-45-39.118865.txt\")\n",
    "Pe = 0.8  # excitatory fraction; change in grow_axons\n",
    "Ne = ceil(Int, Pe * size(A, 1))\n",
    "Ni = floor(Int, (1 - Pe) * size(A, 1))\n",
    "T = 3000;  # time steps"
   ]
  },
  {
   "cell_type": "code",
   "execution_count": 13,
   "id": "5936ad25",
   "metadata": {},
   "outputs": [],
   "source": [
    "# 2 - GLOBAL PARAMETERS THAT SET OUR NEURON MODEL. DEFAULT IS SPIKING NEURON:\n",
    "# Set initial conditions of neurons, with some variability provided by the\n",
    "# vectors re and ri containing random numbers between 0 and 1.\n",
    "re = rand(Ne)\n",
    "ri = rand(Ni)\n",
    "a = [0.02 * ones(Ne); 0.02 .+ 0.08 * ri];\n",
    "b = [0.2 * ones(Ne); 0.25 .- 0.05 * ri];\n",
    "c = [-65 .+ 15 * re .^ 2; -65 * ones(Ni)];\n",
    "d = [8 .- 6 * re .^ 2; 2 * ones(Ni)];\n"
   ]
  },
  {
   "cell_type": "code",
   "execution_count": 14,
   "id": "f73e6ddd",
   "metadata": {},
   "outputs": [],
   "source": [
    "# 3 - SET UP THE CONNECTIVITY MATRIX: DIRECTED NETWORK\n",
    "# In this construction, 1 = connection exist, 0 = no connection.\n",
    "# Connectivity is set as random. Then, a fraction of connections are set to 0.\n",
    "# Note that effectively this is an Erdös-Rényi graphs, with no spatial\n",
    "# characteristics.\n",
    "#frac_delete = 0.6  # Set this fraction of connections to zero.\n",
    "#A[A .< frac_delete] .= 0;\n",
    "#A[A .> 0] .= 1;"
   ]
  },
  {
   "cell_type": "code",
   "execution_count": 15,
   "id": "471dba68",
   "metadata": {},
   "outputs": [],
   "source": [
    "# 4 - SET SYNAPTIC WEIGHTS (STRENGTHS) OF CONNECTIONS.\n",
    "# I represents the amplitudes of evoked currents (EPSC and IPSC).\n",
    "# Increase the max. excitatory weight to induce synchronization.\n",
    "# Be careful. The balance between excitation and inhibition governs the\n",
    "# dynamics of the network!\n",
    "MAX_EXC_WEIGTH = 5.0\n",
    "MAX_INH_WEIGTH = 0.5\n",
    "S = copy(A)\n",
    "S[S .> 0] .= MAX_EXC_WEIGTH * A[A .> 0] .* rand(sum(A .> 0))\n",
    "S[S .< 0] .= MAX_INH_WEIGTH * A[A .< 0] .* rand(sum(A .< 0));\n"
   ]
  },
  {
   "cell_type": "code",
   "execution_count": 16,
   "id": "dc226236",
   "metadata": {},
   "outputs": [],
   "source": [
    "# 6 - DEFINE NOISE STRENGTH. Remember that noise (or random inputs) is the\n",
    "# main drive of spontaneous activity. Default is around 5.\n",
    "NOISE_MAX = 5.0;"
   ]
  },
  {
   "cell_type": "code",
   "execution_count": null,
   "id": "cfd0d8e4",
   "metadata": {},
   "outputs": [],
   "source": [
    "using BenchmarkTools;"
   ]
  },
  {
   "cell_type": "code",
   "execution_count": null,
   "id": "3d58a224",
   "metadata": {},
   "outputs": [],
   "source": [
    "# MAIN SIMULATION\n",
    "function simmain()\n",
    "    Is = zeros(Ne + Ni, T)\n",
    "    v = -65.0 * ones(Ne + Ni)\n",
    "    u = b .* v\n",
    "    firings = zeros(Ne + Ni, T)\n",
    "    rowsums_weights = sum(A, dims=1)\n",
    "    neurontype_idx = [ones(Ne); -ones(Ni)]\n",
    "    for t = 1:T\n",
    "        I = [NOISE_MAX * randn(Ne); 2 * randn(Ni)]\n",
    "        fired = findall(v .>= 30)\n",
    "        firings[fired, t] .= 1\n",
    "        # plasticity\n",
    "        # S, x, u = short_term_plasticity(S, fired, y, x, 200, 600, 0.2)\n",
    "        # S = hebbian_adjust_network_homeostasis(S, fired, 0.05)\n",
    "        hebbian_adjust!(S, fired, 0.05, rowsums_weights, neurontype_idx)\n",
    "        v[fired] .= c[fired]\n",
    "        u[fired] .= u[fired] .+ d[fired]\n",
    "        I .+= sum(S[:, fired], dims=2)\n",
    "        Is[:, t] = I\n",
    "        v .= v .+ 0.5 .* (0.04 .* v .^ 2 .+ 5 .* v .+ 140 .- u .+ I)  # step 0.5 ms\n",
    "        v .= v .+ 0.5 .* (0.04 .* v .^ 2 .+ 5 .* v .+ 140 .- u .+ I)  # for numerical stability\n",
    "        u .= u .+ a .* (b .* v .- u)\n",
    "    end\n",
    "end\n",
    "@time simmain()"
   ]
  },
  {
   "cell_type": "code",
   "execution_count": null,
   "id": "25bdb7a0",
   "metadata": {},
   "outputs": [],
   "source": [
    "# PLOT RESULTS\n",
    "# Raster plot. Time on X, neuron on Y.\n",
    "heatmap(firings, colormap=:hot, aspect_ratio=:equal)\n",
    "\n",
    "spike_m = firings\n",
    "subplot(2, 1, 1)\n",
    "plot(sum(spike_m, dims=1) / size(spike_m, 1))\n",
    "title!(\"Network bursting\")\n",
    "xlabel!(\"Time\")\n",
    "ylabel!(\"Global network activity\")\n",
    "subplot(2, 1, 2)\n",
    "subset = (size(spike_m, 2) - 200):size(spike_m, 2)\n",
    "plot(sum(spike_m[:, subset], dims=2) / size(spike_m[:, subset], 2))\n",
    "title!(\"Neuron loudness at timesteps $(subset[1]):$(subset[end])\")\n",
    "xlabel!(\"Neuron index\")\n",
    "ylabel!(\"Fraction of time fired\")\n",
    "\n",
    "# figure\n",
    "# heatmap(Is)\n",
    "# title!(\"Input current\")\n",
    "# ylabel!(\"Neuron index\")\n",
    "# xlabel!(\"Time\")\n",
    "# using Plots.ColorSchemes\n",
    "# c = max(abs([minimum(Is), maximum(Is)]))\n",
    "# clim!(-c, c)  # center colormap on 0\n",
    "# colorbar(RdBu, label=\"\")\n",
    "\n",
    "# firing statistics\n",
    "c = cor(spike_m, dims=1, alg=:spearman)\n",
    "corrplot = c[:]\n",
    "histogram(corrplot, bins=100)\n",
    "title!(\"Correlation of spike trains\")\n",
    "xlabel!(\"Pearson rho\")\n",
    "ylabel!(\"Count spike train pairs\")\n",
    "\n",
    "subplot(2, 1, 1)\n",
    "histogram(sum(A, dims=1), bins=100)\n",
    "title!(\"Weights before simulation\")\n",
    "xlabel!(\"Weight magnitude\")\n",
    "ylabel!(\"Count\")\n",
    "\n",
    "subplot(2, 1, 2)\n",
    "histogram(sum(S, dims=1), bins=100)\n",
    "title!(\"Weights after simulation\")\n",
    "xlabel!(\"Weight magnitude\")\n",
    "ylabel!(\"Count\")\n",
    "\n",
    "subplot(2, 1, 1)\n",
    "heatmap(S, colormap=:hot, colorbar=:true)\n",
    "title!(\"Weights after simulation\")\n",
    "\n",
    "subplot(2, 1, 2)\n",
    "heatmap(A, colormap=:hot, colorbar=:true)\n",
    "title!(\"Weights before simulation\")\n"
   ]
  }
 ],
 "metadata": {
  "kernelspec": {
   "display_name": "Julia 1.8.5",
   "language": "julia",
   "name": "julia-1.8"
  },
  "language_info": {
   "file_extension": ".jl",
   "mimetype": "application/julia",
   "name": "julia",
   "version": "1.8.5"
  }
 },
 "nbformat": 4,
 "nbformat_minor": 5
}
